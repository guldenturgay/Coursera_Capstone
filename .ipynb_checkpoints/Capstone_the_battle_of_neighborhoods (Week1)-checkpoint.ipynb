{
 "cells": [
  {
   "cell_type": "markdown",
   "metadata": {},
   "source": [
    "# Airbnb Listing Prices and Venues Data Analysis of Seattle\n",
    "\n",
    "## Table of contents\n",
    "- [Introduction](#Introduction)\n",
    "- [Data](#Data)\n",
    "- [Methodology](#Methodology)\n",
    "- [Analysis](#Analysis)\n",
    "- [Results and Discussion](#Results)\n",
    "- [Conclusion](Conclusion)\n",
    "\n",
    "## Introduction\n",
    "\n",
    "### Background\n",
    "[Airbnb](https://en.wikipedia.org/wiki/Airbnb) is an online marketplace where users can arrange or offer accommodation or travel experiences since 2008. The properties in listings do not belong to the company. Instead it acts as a broker and receives commission for each booking. The price range of homestays depends on a range of variable such as the location, number of bedrooms and bathrooms, nearby transportation options and things to do around etc.\n",
    "\n",
    "[Seattle](https://en.wikipedia.org/wiki/Seattle) is one of the fastest-growing cities in United States and the largest one in the state of Washington with an estimated population of 744,955 as of 2018. Since the city is the heart of many major companies in the U.S. and also has many attractions, it has millions of visitors each year. It was reported that 38.1 million people visited the city of Seattle and the King County, which is the county Seattle is located in, in [2015](https://visitseattle.org/press/press-releases/seattle-tourism-statistics-announced/) and 40 million visitors in [2018](https://visitseattle.org/press/press-releases/seattle-celebrates-record-breaking-tourism-season-with-more-than-40-million-visitors-in-2018/) with a groundbreaking record.\n",
    "\n",
    "### Problem & Interest\n",
    "The goal of this project is to visualize neighborhoods of Seattle on map regarding the average nightly prices of Airbnb places and cluster the neighborhoods in order to see if there is any relation between the Airbnb prices and venues in the neighborhood, if so what kind of venues affect the most when it comes to pricing an Airbnb accommodation.\n",
    "\n",
    "Anyone to rent their property as an Airbnb listing in Seattle would be interested in the problem in order to set an accurate price.\n",
    "\n",
    "## Data \n",
    "\n",
    "- First I will use the data sourced from [Inside Airbnb](http://insideairbnb.com/get-the-data.html) website and the date that data was compiled on the website is 03/17/20. The attributes that I will use in the analysis are : \n",
    "    - `neighborhoods` -  Neighborhood names of each Airbnb listing in Seattle\n",
    "    - `latitude` - Latitudes of each Airbnb listing\n",
    "    - `longitude` - Longitudes of each Airbnb listing\n",
    "    - `price` - Nightly prices of each Airbnb listing in USD at given date\n",
    "    \n",
    "\n",
    "- I will use [Foursquare API](https://developer.foursquare.com/) to get the top venues of given neighborhood in city of Seattle.\n",
    "\n",
    "- I will use [Seattle neighborhood boundaries json](https://github.com/seattleio/seattle-boundaries-data/blob/master/data/neighborhoods.geojson) data to get the neighborhood boundaries."
   ]
  },
  {
   "cell_type": "raw",
   "metadata": {},
   "source": []
  }
 ],
 "metadata": {
  "kernelspec": {
   "display_name": "Python 3",
   "language": "python",
   "name": "python3"
  },
  "language_info": {
   "codemirror_mode": {
    "name": "ipython",
    "version": 3
   },
   "file_extension": ".py",
   "mimetype": "text/x-python",
   "name": "python",
   "nbconvert_exporter": "python",
   "pygments_lexer": "ipython3",
   "version": "3.7.3"
  }
 },
 "nbformat": 4,
 "nbformat_minor": 2
}
